{
  "nbformat": 4,
  "nbformat_minor": 0,
  "metadata": {
    "colab": {
      "provenance": [],
      "authorship_tag": "ABX9TyNXMIus9w2byzm51AHSQfeZ",
      "include_colab_link": true
    },
    "kernelspec": {
      "name": "python3",
      "display_name": "Python 3"
    },
    "language_info": {
      "name": "python"
    }
  },
  "cells": [
    {
      "cell_type": "markdown",
      "metadata": {
        "id": "view-in-github",
        "colab_type": "text"
      },
      "source": [
        "<a href=\"https://colab.research.google.com/github/TasnimZannatNaima/IT22001-course-ICT3108-ICT3109-/blob/main/IT22001(naima).ipynb\" target=\"_parent\"><img src=\"https://colab.research.google.com/assets/colab-badge.svg\" alt=\"Open In Colab\"/></a>"
      ]
    },
    {
      "cell_type": "markdown",
      "source": [
        "**OOP Encapsulation Code with comment**"
      ],
      "metadata": {
        "id": "h18XRLAskZwN"
      }
    },
    {
      "cell_type": "markdown",
      "source": [
        "**✅ Car Class – located in the com package**:\n",
        "\n",
        "package com;\n",
        "\n",
        "// This class represents a Car with properties color and year.\n",
        "public class Car {\n",
        "    private String color; // Color of the car\n",
        "    private int year;     // Manufacturing year of the car\n",
        "\n",
        "    // Getter method for color\n",
        "    public String getColor() {\n",
        "        return color;\n",
        "    }\n",
        "\n",
        "    // Setter method for color\n",
        "    public void setColor(String color) {\n",
        "        this.color = color;\n",
        "    }\n",
        "\n",
        "    // Getter method for year\n",
        "    public int getYear() {\n",
        "        return year;\n",
        "    }\n",
        "\n",
        "    // Setter method for year\n",
        "    public void setYear(int year) {\n",
        "        this.year = year;\n",
        "    }\n",
        "\n",
        "    // Method to print car status\n",
        "    public void CarStatus() {\n",
        "        System.out.println(\"Car Status: Running!\");\n",
        "    }\n",
        "\n",
        "    // Note: This is a commented-out constructor. It would allow initialization of Car with parameters.\n",
        "//    public com.Car(String color, int year) {\n",
        "//        this.color = color;\n",
        "//        this.year = year;\n",
        "//    }\n",
        "}\n",
        "\n",
        "\n",
        "✅ Car1 Class – also in the com package:\n",
        "\n",
        "package com;\n",
        "\n",
        "// Another car class, but this one uses constructor-based initialization.\n",
        "public class Car1 {\n",
        "    private String color; // Color of the car\n",
        "    private int year;     // Manufacturing year of the car\n",
        "\n",
        "    // Getter for color\n",
        "    public String getColor() {\n",
        "        return color;\n",
        "    }\n",
        "\n",
        "    // Getter for year\n",
        "    public int getYear() {\n",
        "        return year;\n",
        "    }\n",
        "\n",
        "    // Method to print car status\n",
        "    public void CarStatus() {\n",
        "        System.out.println(\"Car Status: Running!\");\n",
        "    }\n",
        "\n",
        "    // Constructor to initialize color and year\n",
        "    public Car1(String color, int year) {\n",
        "        this.color = color;\n",
        "        this.year = year;\n",
        "    }\n",
        "}\n",
        "\n",
        "✅ Main Class – located in the mainpack package:\n",
        "\n",
        "package mainpack;\n",
        "\n",
        "import com.Car;\n",
        "import com.Car1;\n",
        "\n",
        "// Entry point of the program\n",
        "public class Main {\n",
        "    public static void main(String[] args) {\n",
        "\n",
        "        // Using the Car class - setting properties via setters\n",
        "        System.out.println(\"Car object ...set with setter\\n\");\n",
        "        Car car = new Car();\n",
        "        car.setYear(2020);\n",
        "        car.setColor(\"red\");\n",
        "        System.out.println(\"Color: \" + car.getColor());\n",
        "        System.out.println(\"Year: \" + car.getYear());\n",
        "        car.CarStatus();\n",
        "\n",
        "        // Using the Car1 class - setting properties via constructor\n",
        "        System.out.println(\"Car1 object ...set with cons\\n\");\n",
        "        Car1 car1 = new Car1(\"Blue\", 2018);\n",
        "        System.out.println(\"Color: \" + car1.getColor());\n",
        "        System.out.println(\"Year: \" + car1.getYear());\n",
        "        car1.CarStatus();\n",
        "    }\n",
        "}"
      ],
      "metadata": {
        "id": "bozM7g6ZkYYO"
      }
    },
    {
      "cell_type": "markdown",
      "source": [
        "encapsulation (private fields and public getters/setters). Initialization of fields is done using setters.\n",
        "\n",
        "\n",
        "public class Car {\n",
        "    private String color;\n",
        "    private int year;\n",
        "    \n",
        "    // Getters and Setters\n",
        "    // Method: CarStatus()\n",
        "}\n",
        "\n",
        "🔹 Car1 Class\n",
        "Package: com\n",
        "Description:\n",
        "Similar to Car, but this class uses a constructor to initialize the color and year fields, and does not provide setters.\n",
        "\n",
        "\n",
        "public class Car1 {\n",
        "    private String color;\n",
        "    private int year;\n",
        "    \n",
        "    // Constructor\n",
        "    // Getters\n",
        "    // Method: CarStatus()\n",
        "}\n",
        "\n",
        "🔹 Main Class\n",
        "Package: mainpack\n",
        "Description:\n",
        "This class contains the main() method, which is the entry point of the program. It demonstrates how to create and use objects of Car and Car1.\n",
        "\n",
        "public class Main {\n",
        "    public static void main(String[] args) {\n",
        "        // Code to demonstrate Car and Car1 usage\n",
        "    }\n",
        "}"
      ],
      "metadata": {
        "id": "78gmYd4GnLUQ"
      }
    },
    {
      "cell_type": "markdown",
      "source": [
        "🔹 Car Class\n",
        "Package: com\n",
        "Description:\n",
        "Represents a car object using encapsulation (private fields and public getters/setters). Initialization of fields is done using setters.\n",
        "\n",
        "public class Car {\n",
        "    private String color;\n",
        "    private int year;\n",
        "    \n",
        "    // Getters and Setters\n",
        "    // Method: CarStatus()\n",
        "}\n",
        "\n",
        "🔹 Car1 Class\n",
        "Package: com\n",
        "Description:\n",
        "Similar to Car, but this class uses a constructor to initialize the color and year fields, and does not provide setters.\n",
        "\n",
        "\n",
        "public class Car1 {\n",
        "    private String color;\n",
        "    private int year;\n",
        "    \n",
        "    // Constructor\n",
        "    // Getters\n",
        "    // Method: CarStatus()\n",
        "}\n",
        "\n",
        "🔹 Main Class\n",
        "Package: mainpack\n",
        "Description:\n",
        "This class contains the main() method, which is the entry point of the program. It demonstrates how to create and use objects of Car and Car1.\n",
        "\n",
        "\n",
        "public class Main {\n",
        "    public static void main(String[] args) {\n",
        "        // Code to demonstrate Car and Car1 usage\n",
        "    }\n",
        "}"
      ],
      "metadata": {
        "id": "oK8KJVgRqZ4z"
      }
    },
    {
      "cell_type": "markdown",
      "source": [
        "**Object**"
      ],
      "metadata": {
        "id": "gMm0pubKoPI2"
      }
    },
    {
      "cell_type": "markdown",
      "source": [
        "\n",
        "🔹 car – Object of class Car\n",
        "Car car = new Car();\n",
        "*This object is created using the default constructor (no parameters).\n",
        "\n",
        "Its properties (color, year) are set using setter methods:\n",
        "car.setColor(\"red\");\n",
        "car.setYear(2020);\n",
        "It then calls a method:\n",
        "car.CarStatus();\n",
        "\n",
        "🔹 car1 – Object of class Car1\n",
        "\n",
        "Car1 car1 = new Car1(\"Blue\", 2018);\n",
        "*This object is created using a parameterized constructor, passing in the values \"Blue\" and 2018.\n",
        "\n",
        "It uses getter methods to retrieve its values:\n",
        "car1.getColor();\n",
        "car1.getYear();\n",
        "It also calls:\n",
        "car1.CarStatus();"
      ],
      "metadata": {
        "id": "Pkvedr4MofCH"
      }
    }
  ]
}